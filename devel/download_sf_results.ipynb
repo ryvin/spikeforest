{
 "cells": [
  {
   "cell_type": "code",
   "execution_count": null,
   "id": "amended-premiere",
   "metadata": {},
   "outputs": [],
   "source": [
    "from sfsortingresults import SFSortingResults\n",
    "import spikewidgets as sw\n",
    "%matplotlib notebook"
   ]
  },
  {
   "cell_type": "markdown",
   "id": "changed-google",
   "metadata": {},
   "source": [
    "### Instantiate a `SFSortingResults` object"
   ]
  },
  {
   "cell_type": "markdown",
   "id": "isolated-context",
   "metadata": {},
   "source": [
    "The `SFSortingResults` object allows you to easily retrieve studies, recording names, and available sorted results:"
   ]
  },
  {
   "cell_type": "code",
   "execution_count": null,
   "id": "driving-romania",
   "metadata": {},
   "outputs": [],
   "source": [
    "sfresults = SFSortingResults()"
   ]
  },
  {
   "cell_type": "code",
   "execution_count": null,
   "id": "tropical-success",
   "metadata": {},
   "outputs": [],
   "source": [
    "# retrieve study names\n",
    "study_names = sfresults.get_study_names()"
   ]
  },
  {
   "cell_type": "code",
   "execution_count": null,
   "id": "independent-integration",
   "metadata": {},
   "outputs": [],
   "source": [
    "print(f\"Available studies:\\n{study_names}\")"
   ]
  },
  {
   "cell_type": "code",
   "execution_count": null,
   "id": "together-hypothesis",
   "metadata": {},
   "outputs": [],
   "source": [
    "# retrieve recording names for a study\n",
    "target_study = study_names[0]\n",
    "recording_names = sfresults.get_recording_names(study_name=target_study)\n",
    "print(f\"Study {target_study} has the following recordings:\\n{recording_names}\")"
   ]
  },
  {
   "cell_type": "code",
   "execution_count": null,
   "id": "imperial-kansas",
   "metadata": {},
   "outputs": [],
   "source": [
    "# retrieve available sorter outputs\n",
    "target_recording = recording_names[0]\n",
    "sorting_output_names = sfresults.get_sorting_output_names(study_name=target_study, recording_name=target_recording)\n",
    "print(f\"Recording {target_recording} has the following sorting outputs:\\n{sorting_output_names}\")"
   ]
  },
  {
   "cell_type": "markdown",
   "id": "editorial-colonial",
   "metadata": {},
   "source": [
    "### Retrieve a sorting output as a `SortingExtractor` object"
   ]
  },
  {
   "cell_type": "code",
   "execution_count": null,
   "id": "surprising-henry",
   "metadata": {},
   "outputs": [],
   "source": [
    "target_sorting_output = \"IronClust\"\n",
    "sorting_output = sfresults.get_sorting_output(study_name=target_study, recording_name=target_recording,\n",
    "                                              sorter_name=target_sorting_output)"
   ]
  },
  {
   "cell_type": "code",
   "execution_count": null,
   "id": "significant-clause",
   "metadata": {},
   "outputs": [],
   "source": [
    "w = sw.plot_rasters(sorting_output)"
   ]
  },
  {
   "cell_type": "code",
   "execution_count": null,
   "id": "streaming-jumping",
   "metadata": {},
   "outputs": [],
   "source": []
  }
 ],
 "metadata": {
  "kernelspec": {
   "display_name": "Python 3",
   "language": "python",
   "name": "python3"
  },
  "language_info": {
   "codemirror_mode": {
    "name": "ipython",
    "version": 3
   },
   "file_extension": ".py",
   "mimetype": "text/x-python",
   "name": "python",
   "nbconvert_exporter": "python",
   "pygments_lexer": "ipython3",
   "version": "3.8.5"
  }
 },
 "nbformat": 4,
 "nbformat_minor": 5
}
